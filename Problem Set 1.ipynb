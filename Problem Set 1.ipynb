{
 "cells": [
  {
   "cell_type": "markdown",
   "id": "2f5a41eb",
   "metadata": {},
   "source": [
    "# Question 1 (C#):"
   ]
  },
  {
   "cell_type": "markdown",
   "id": "9a92eb8c",
   "metadata": {},
   "source": [
    "| Value | Data type |\n",
    "| - | - |\n",
    "|   5   |    int    |\n",
    "| 5.0 | float |\n",
    "| 5 > 1 | bool |\n",
    "| '5' | char |\n",
    "| 5 * 2 | int |\n",
    "| '5' * 2 | string |\n",
    "| 5 / 2 | float |\n",
    "| 5 % 2 | int |\n",
    "| {5, 2, 1 } | array |\n",
    "| 5 == 3 | bool |\n",
    "| Pi(the number) | float |"
   ]
  },
  {
   "cell_type": "markdown",
   "id": "bd4a73de",
   "metadata": {},
   "source": [
    "# Question 2 (C#):"
   ]
  },
  {
   "cell_type": "code",
   "execution_count": null,
   "id": "e78eb54b",
   "metadata": {},
   "outputs": [],
   "source": [
    " // a. How many letters are there in 'Supercalifragilisticexpialidocious'?\n",
    "Console.WriteLine(\"Supercalifragilisticexpialidocious\".Length);\n",
    "\n",
    "// b. Does 'Supercalifragilisticexpialidocious' contain 'ice' as a substring?\n",
    "Console.WriteLine(\"Supercalifragilisticexpialidocious\".Contains(\"ice\"));\n",
    "\n",
    "// c. Which of the following words is the longest: Supercalifragilisticexpialidocious, Honorificabilitudinitatibus, or\n",
    "// Bababadalgharaghtakamminarronnkonn?\n",
    "string[] words = {\"Supercalifragilisticexpialidocious\", \"Honorificabilitudinitatibus\",\"Bababadalgharaghtakamminarronnkonn\"};\n",
    "string maxLength = \"\";\n",
    "\n",
    "foreach (string w in words)\n",
    "{\n",
    "    if (w.Length > maxLength.Length)\n",
    "    {\n",
    "        maxLength = w;\n",
    "    }\n",
    "}\n",
    "Console.WriteLine(maxLength);\n",
    "\n",
    "\n",
    "// d. Which composer comes first in the dictionary: 'Berlioz', 'Borodin', 'Brian',\n",
    "// 'Bartok', 'Bellini', 'Buxtehude', 'Bernstein'. Which one comes last?\n",
    "string[] words2 = new string[]{\"Berlio\", \"Borodin\", \"Brian\",\"Bartok\", \"Bellini\", \"Buxtehude\", \"Bernstein\"};\n",
    "\n",
    "Array.Sort(words2);\n",
    "Console.WriteLine(words2[0]);"
   ]
  },
  {
   "cell_type": "markdown",
   "id": "14a2f1d2",
   "metadata": {},
   "source": [
    "![Question 2 Solution](q2_solution.png)"
   ]
  },
  {
   "cell_type": "markdown",
   "id": "9da616d6",
   "metadata": {},
   "source": [
    "# Question 3 (C#):"
   ]
  },
  {
   "cell_type": "code",
   "execution_count": null,
   "id": "78899436",
   "metadata": {},
   "outputs": [],
   "source": [
    "double triangleArea(double a, double b, double c)\n",
    "{\n",
    "    double s = (a + b + c) / 2;\n",
    "    double ans = Math.Sqrt((s * (s - a) * (s - b) * (s - c)));\n",
    "    return ans;\n",
    "}\n",
    "\n",
    "Console.WriteLine(triangleArea(2,2,2));"
   ]
  },
  {
   "cell_type": "markdown",
   "id": "9855d536",
   "metadata": {},
   "source": [
    "![Question 3 Solution](q3_solution.png)"
   ]
  },
  {
   "cell_type": "markdown",
   "id": "5370b0ab",
   "metadata": {},
   "source": [
    "# Question 4 (C#):"
   ]
  },
  {
   "cell_type": "code",
   "execution_count": null,
   "id": "8945a37d",
   "metadata": {},
   "outputs": [],
   "source": [
    "Console.Write(\"Input the number of elements to be stored in the array: \");\n",
    "int noOfElements = Convert.ToInt32(Console.ReadLine());\n",
    "int[] elements = new int[noOfElements];\n",
    "Console.WriteLine($\"Input {noOfElements} elements in the array: \");\n",
    "for (int i = 0; i < noOfElements; i++)\n",
    "{\n",
    "    Console.Write($\"element - {i}: \");\n",
    "    elements[i] = Convert.ToInt32(Console.ReadLine());\n",
    "}\n",
    "\n",
    "Console.WriteLine(\"The Even elements are: \");\n",
    "\n",
    "for (int i = 0; i < noOfElements; i++)\n",
    "{\n",
    "    if (elements[i] % 2 == 0)\n",
    "    {\n",
    "        Console.Write($\"{elements[i]} \");\n",
    "    }\n",
    "}\n",
    "Console.WriteLine();\n",
    "Console.WriteLine(\"The Odd elements are: \");\n",
    "\n",
    "for (int i = 0; i < noOfElements; i++)\n",
    "{\n",
    "    if (elements[i] % 2 != 0)\n",
    "    {\n",
    "        Console.Write($\"{elements[i]} \");\n",
    "    }\n",
    "}"
   ]
  },
  {
   "cell_type": "markdown",
   "id": "e1fc85f8",
   "metadata": {},
   "source": [
    "![Question 4 Solution](q4_solution.png)"
   ]
  },
  {
   "cell_type": "markdown",
   "id": "3d348b8c",
   "metadata": {},
   "source": [
    "# Question 5 (C#):"
   ]
  },
  {
   "cell_type": "code",
   "execution_count": null,
   "id": "63a563b5",
   "metadata": {},
   "outputs": [],
   "source": [
    "// Question 5.a\n",
    "bool inside(double x, double y, double x1, double y1, double x2, double y2)\n",
    "{\n",
    "    // Considering that the point is inside the rectangle if it is on the border. \n",
    "    bool xPoint = (x >= x1) && (x <= x2);\n",
    "    bool yPoint = (y >= y1) && (y <= y2);\n",
    "\n",
    "    return (xPoint && yPoint);\n",
    "}\n",
    "\n",
    "Console.WriteLine(inside(1, 1, 0, 0, 2, 3));\n",
    "Console.WriteLine(inside(-1, -1, 0, 0, 2, 3));\n",
    "\n",
    "// Question 5.b\n",
    "Console.WriteLine(inside(1, 1, 0.3, 0.5, 1.1, 0.7) && inside(1, 1, 0.5, 0.2, 1.1, 2));"
   ]
  },
  {
   "cell_type": "markdown",
   "id": "b5633c72",
   "metadata": {},
   "source": [
    "![Question 5 Solution](q5_solution.png)"
   ]
  },
  {
   "cell_type": "markdown",
   "id": "6a464810",
   "metadata": {},
   "source": [
    "# Question 6 (Python):"
   ]
  },
  {
   "cell_type": "code",
   "execution_count": 4,
   "id": "395e892a",
   "metadata": {},
   "outputs": [
    {
     "name": "stdout",
     "output_type": "stream",
     "text": [
      "appyhay\n",
      "enterway\n"
     ]
    }
   ],
   "source": [
    "def pig(word):\n",
    "    vowels = ['a', 'e', 'i', 'o', 'u']\n",
    "    word = word.lower()\n",
    "    pigLatinWord = \"\"\n",
    "    if word[0] in vowels:\n",
    "        pigLatinWord = word + \"way\"\n",
    "    else:\n",
    "        pigLatinWord = word[1:] + word[0] + \"ay\"\n",
    "    \n",
    "    return pigLatinWord\n",
    "\n",
    "print(pig(\"happy\"))\n",
    "print(pig(\"Enter\"))"
   ]
  },
  {
   "cell_type": "markdown",
   "id": "4332f6a6",
   "metadata": {},
   "source": [
    "# Question 7 (Python):"
   ]
  },
  {
   "cell_type": "code",
   "execution_count": 6,
   "id": "30a60a72",
   "metadata": {},
   "outputs": [
    {
     "name": "stdout",
     "output_type": "stream",
     "text": [
      "There are 15 patients of blood type A\n",
      "There is one patient of blood type B\n",
      "There are 13 patients of blood type AB\n",
      "There are 15 patients of blood type O\n",
      "There are 0 patients of blood type OO\n"
     ]
    }
   ],
   "source": [
    "def bldcount(filename):\n",
    "    bloodTypesDict = {\"A\": 0,\"B\": 0, \"AB\": 0, \"O\": 0, \"OO\": 0}\n",
    "    with open(filename) as f:\n",
    "        bloodTypes = f.readline().strip().split(\" \")\n",
    "        for bloodType in bloodTypes:\n",
    "            bloodTypesDict[bloodType] = bloodTypesDict[bloodType] + 1\n",
    "    \n",
    "    for key, value in bloodTypesDict.items():\n",
    "        if value == 1:\n",
    "            print(f\"There is one patient of blood type {key}\")\n",
    "        else:\n",
    "            print(f\"There are {value} patients of blood type {key}\")\n",
    "\n",
    "bldcount(\"bloodtype1.txt\")"
   ]
  },
  {
   "cell_type": "markdown",
   "id": "a2e65e75",
   "metadata": {},
   "source": [
    "# Question 8 (Python):"
   ]
  },
  {
   "cell_type": "code",
   "execution_count": 7,
   "id": "8cd2f023",
   "metadata": {},
   "outputs": [
    {
     "name": "stdout",
     "output_type": "stream",
     "text": [
      "122.96544\n",
      "1.241401\n"
     ]
    }
   ],
   "source": [
    "def curconv(inputCurr, amount):\n",
    "    with open(\"currencies.txt\") as f:\n",
    "        for line in f:\n",
    "            lineValues = line.strip().split()\n",
    "            currency, exchangeRate = lineValues[0], lineValues[1]\n",
    "            if currency == inputCurr:\n",
    "                return amount * float(exchangeRate)\n",
    "\n",
    "print(curconv(\"EUR\", 100))\n",
    "print(curconv(\"JPY\", 100))"
   ]
  },
  {
   "cell_type": "markdown",
   "id": "828bad3a",
   "metadata": {},
   "source": [
    "# Question 9 (Python):"
   ]
  },
  {
   "cell_type": "markdown",
   "id": "1c7cfd54",
   "metadata": {},
   "source": [
    "| Type Of Error | Name of the Error |\n",
    "| --- | --- |\n",
    "| Trying to add incompatible variables, as in adding 6 + ‘a’| TypeError |\n",
    "| Referring to the 12th item of a list that has only 10 items | IndexError |\n",
    "| Using a value that is out ofrange for a function’s input, such as calling math.sqrt(-1.0) | ValueError |\n",
    "| Using an undeclared variable, such as print(x) when x has not been defined | NameError |\n",
    "| Trying to open a file that does not exist, such as mistyping the file name or looking in the wrong directory. | FileNotFoundError |\n"
   ]
  },
  {
   "cell_type": "markdown",
   "id": "362ff66d",
   "metadata": {},
   "source": [
    "# Question 10 (Python):"
   ]
  },
  {
   "cell_type": "code",
   "execution_count": 8,
   "id": "179c262b",
   "metadata": {},
   "outputs": [
    {
     "name": "stdout",
     "output_type": "stream",
     "text": [
      "[1, 1, 1, 3, 5, 1, 1, 2, 1, 0, 1, 0, 1, 2, 4, 0, 1, 2, 0, 2, 1, 0, 1, 1, 0, 0]\n",
      "[1, 0, 0, 0, 1, 0, 0, 0, 0, 0, 0, 1, 0, 0, 0, 2, 0, 0, 0, 0, 0, 0, 0, 0, 0, 0]\n"
     ]
    }
   ],
   "source": [
    "def frequencies(stringValue):\n",
    "    ans = [0] * 26\n",
    "    \n",
    "    for l in stringValue:\n",
    "        index = ord(l) - 97\n",
    "        if index >=0 and index < 26:\n",
    "            ans[index] = ans[index] + 1\n",
    "\n",
    "    return ans\n",
    "\n",
    "print(frequencies(\"The quick red fox got bored and went home.\"))\n",
    "print(frequencies(\"apple\"))"
   ]
  },
  {
   "cell_type": "code",
   "execution_count": null,
   "id": "55181a6f",
   "metadata": {},
   "outputs": [],
   "source": []
  }
 ],
 "metadata": {
  "kernelspec": {
   "display_name": "Python 3 (ipykernel)",
   "language": "python",
   "name": "python3"
  },
  "language_info": {
   "codemirror_mode": {
    "name": "ipython",
    "version": 3
   },
   "file_extension": ".py",
   "mimetype": "text/x-python",
   "name": "python",
   "nbconvert_exporter": "python",
   "pygments_lexer": "ipython3",
   "version": "3.9.12"
  }
 },
 "nbformat": 4,
 "nbformat_minor": 5
}
